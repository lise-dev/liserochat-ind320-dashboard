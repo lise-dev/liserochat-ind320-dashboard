














import pandas as pd
import matplotlib.pyplot as plt

data = pd.read_csv('../app/data/open-meteo-subset.csv', encoding='utf-8', sep=',')





if 'time' in data.columns:
    data['time'] = pd.to_datetime(data['time'], errors='coerce', utc=True)
    data = data.sort_values('time').reset_index(drop=True)
    data = data.set_index('time')  
else:
    raise KeyError("The 'time' column is missing from the dataset.")

data.head()






num_cols = data.select_dtypes(include='number').columns

for col in num_cols:
    plt.figure(figsize=(9, 4))
    plt.plot(data.index, data[col])
    plt.title(f'{col} vs time')
    plt.xlabel('Time')
    plt.ylabel(col)
    plt.grid(True)
    plt.tight_layout()
    plt.show()







plt.figure(figsize=(11, 6))
for col in num_cols:
    plt.plot(data.index, data[col], label=col)
plt.title('All numeric columns vs time')
plt.xlabel('Time')
plt.ylabel('Values')
plt.legend()
plt.grid(True)
plt.tight_layout()
plt.show()





direction_cols = [c for c in num_cols if "direction" in c.lower() or "°" in c.lower()]
primary_cols = [c for c in num_cols if c not in direction_cols]

fig, ax1 = plt.subplots(figsize=(11, 6))
ax2 = ax1.twinx()  

for col in primary_cols:
    ax1.plot(data.index, data[col], label=col)

for col in direction_cols:
    ax2.plot(data.index, data[col], linestyle="--", label=col)

ax1.set_title("All numeric columns vs time (wind direction on secondary axis)")
ax1.set_xlabel("Time")
ax1.set_ylabel("Values")
ax2.set_ylabel("Direction (°)")

ax1.grid(True)

h1, l1 = ax1.get_legend_handles_labels()
h2, l2 = ax2.get_legend_handles_labels()
ax1.legend(h1 + h2, l1 + l2, loc="best")

plt.tight_layout()
plt.show()

